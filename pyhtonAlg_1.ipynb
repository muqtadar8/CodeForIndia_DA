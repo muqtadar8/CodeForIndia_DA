{
  "nbformat": 4,
  "nbformat_minor": 0,
  "metadata": {
    "colab": {
      "provenance": [],
      "authorship_tag": "ABX9TyMmIX+BakvRRI2zfOobY06q",
      "include_colab_link": true
    },
    "kernelspec": {
      "name": "python3",
      "display_name": "Python 3"
    },
    "language_info": {
      "name": "python"
    }
  },
  "cells": [
    {
      "cell_type": "markdown",
      "metadata": {
        "id": "view-in-github",
        "colab_type": "text"
      },
      "source": [
        "<a href=\"https://colab.research.google.com/github/muqtadar8/CodeForIndia_DA/blob/main/pyhtonAlg_1.ipynb\" target=\"_parent\"><img src=\"https://colab.research.google.com/assets/colab-badge.svg\" alt=\"Open In Colab\"/></a>"
      ]
    },
    {
      "cell_type": "code",
      "source": [
        "# WAP to calculate the area of triangle, square, circle?\n",
        "\n",
        "print(\"Pick a shape to know its Area\")\n",
        "\n",
        "\n",
        "i = int(input(\"Enter an option \\n1- triangle \\n2-Square \\n3-Circle \\n: \"))\n",
        "\n",
        "if(i in (1,2,3)):\n",
        " if (i == 1):\n",
        "   print(\"You choose Triangle /n Enter the dimensions of the triangle\")\n",
        "   b=float(input(\"Enter base of the Triangle in centimeters : \"))\n",
        "   h=float(input(\"Enter height of the Triangle in centimeters: \"))\n",
        "   a= (1/2)*b*h\n",
        "   print(\"\\nArea of the Triangle : \",a,\"sqmts.\")\n",
        " elif(i == 2):\n",
        "   print(\"You choose Square \\n Enter the dimensions of the Square\")\n",
        "   s=float(input(\"Enter side of the Square in centimeters : \"))\n",
        "   \n",
        "   a= s**2\n",
        "   print(\"\\nArea of the Square : \",a,\"sqmts.\")\n",
        "\n",
        " else:\n",
        "   print(\"You choose Circle \\n Enter the dimensions of the Circle\")\n",
        "   r=float(input(\"Enter radius of the Circle in centimeters: \"))\n",
        "   a= (22/7)*(r**2)\n",
        "   print(\"\\nArea of the Circle: \",a,\"sqmts.\")\n",
        "\n",
        "\n",
        "else:\n",
        "  print(\"Please Enter a correct option \\n1- triangle \\n2-Square \\n3-Circle \")\n"
      ],
      "metadata": {
        "colab": {
          "base_uri": "https://localhost:8080/"
        },
        "id": "LiRfSm9_j4x0",
        "outputId": "078c6e49-9681-42ef-82c9-3471e61d3e11"
      },
      "execution_count": null,
      "outputs": [
        {
          "output_type": "stream",
          "name": "stdout",
          "text": [
            "Pick a shape to know its Area\n",
            "Enter an option \n",
            "1- triangle \n",
            "2-Square \n",
            "3-Circle \n",
            ": 2\n",
            "You choose Square \n",
            " Enter the dimensions of the Square\n",
            "Enter side of the Square in centimerters : 90\n",
            "\n",
            "Area of the Square :  8100.0 sqmts.\n"
          ]
        }
      ]
    },
    {
      "cell_type": "code",
      "source": [
        "# Price = your_value\n",
        "# quantity  = your_value\n",
        "# amount = price * quantity\n",
        "\n",
        "# amount =  ( 0 - 500 ) is low quality\n",
        "# amount =  ( 501 - 1000 )is High quality\n",
        "# amount =  ( 100 - 200 ) is cheaper cost\n",
        "# amount =  ( 201 - 400 ) is good cost\n",
        "# amount =  ( 401 - 800 ) is moderate cost\n",
        "# amount =  ( 801 - 1000 )is costly\n",
        "\n",
        "print('Quality and cost analysis wrt Amount of the product')\n",
        "\n",
        "p = int(input('Enter the Price : '))\n",
        "\n",
        "q= int(input('Enter the quantity : '))\n",
        "\n",
        "m= p * q\n",
        "\n",
        "print(\"Amount: \",m ,\"\\n\")\n",
        "\n",
        "if (m in range(0,1001)):\n",
        "  print(\"Quality:\")\n",
        "\n",
        "  if (m in range(0,501)):\n",
        "    print(\"low quality\")\n",
        "  else:\n",
        "    print('High quality')\n",
        "  print(\"\\n\")\n",
        "  print(\"Expense:\")\n",
        "\n",
        "  if(m in range(100,201)):\n",
        "    print(\"cheaper cost\")\n",
        "  elif(m in range(201,401)):\n",
        "    print(\"Good cost\")\n",
        "  elif(m in range(401,800)):\n",
        "    print(\"Moderate cost\")\n",
        "  elif(m in range(801,1000)):\n",
        "    print(\"Costly\")\n",
        "\n",
        "  else:\n",
        "    print(\"Amount too high\")\n",
        "\n",
        "else:\n",
        "  print('Data not found')\n"
      ],
      "metadata": {
        "colab": {
          "base_uri": "https://localhost:8080/"
        },
        "id": "yXOxmvkWkElp",
        "outputId": "4f78e0aa-e237-4d28-ac5b-29e4d0e6bd4a"
      },
      "execution_count": null,
      "outputs": [
        {
          "output_type": "stream",
          "name": "stdout",
          "text": [
            "Quality and cost analysis wrt Amount of the product\n",
            "Enter the Price : 30\n",
            "Enter the quantity : 30\n",
            "Amount:  900 \n",
            "\n",
            "Quality:\n",
            "High quality\n",
            "\n",
            "\n",
            "Expense:\n",
            "Costly\n"
          ]
        }
      ]
    },
    {
      "cell_type": "code",
      "source": [
        "# Any product costs 100 each in shopping mall\n",
        "# There is a discount of 10% on the bill if customer shops more than 1000 rupees\n",
        "# Hint- Ask user, how many products he purchased as input to your code. \n",
        "# Tell the customer the final bill.\n",
        "\n",
        "print(\"\\tWelcome to 100Rs Store!\")\n",
        "print(\"\\t10% Dicount on purchare over 1000/-\")\n",
        "m=int(input(\"\\nKindly Enter the No. of products for purchase : \\n\"))\n",
        "a=100*m\n",
        "print(\"\\nYour total amount is Rs.\",a,\"/-\")\n",
        "\n",
        "if(a>1000):\n",
        "  print(\"\\nCongratualtion You've unlocked 10% dicount\")\n",
        "  f= (10*a)/100\n",
        "  t=a-f\n",
        "  print(\"\\nYour final Amount after 10% dicount is Rs.\",int(t),\"/-\")\n",
        "\n",
        "\n",
        "\n"
      ],
      "metadata": {
        "colab": {
          "base_uri": "https://localhost:8080/"
        },
        "id": "_SX8J76okRMj",
        "outputId": "8a036d6c-359a-4aa0-933b-7be6ed97574f"
      },
      "execution_count": null,
      "outputs": [
        {
          "output_type": "stream",
          "name": "stdout",
          "text": [
            "\tWelcome to 100Rs Store!\n",
            "\t10% Dicount on purchare over 1000/-\n",
            "\n",
            "Kindly Enter the No. of products for purchase : \n",
            "40\n",
            "\n",
            "Your total amount is Rs. 4000 /-\n",
            "\n",
            "Congratualtion You've unlocked 10% dicount\n",
            "\n",
            "Your final Amount after 10% dicount is Rs. 3600 /-\n"
          ]
        }
      ]
    },
    {
      "cell_type": "code",
      "source": [
        "# Check whether a triangle is a scalene/isosceles/equilateral triangle? \n",
        "\n",
        "print(\"\")\n",
        "\n",
        "o=float(input(\"Enter 1st side dimension in centimeter : \"))\n",
        "t=float(input(\"Enter 1st side dimension in centimeter : \"))\n",
        "h=float(input(\"Enter 1st side dimension in centimeter : \"))\n",
        "print(f\"Given dimension : \\n1st-{o} \\n2nd-{t} \\n3rd-{h}\")\n",
        "if (o == t ==h):\n",
        "  print(\"It is a Equilateral Triangle as all sides are equal\")\n",
        "elif(o ==t or t==h or o==h):\n",
        "  print(\"It is an Isoceles Triangle as only two equal\")\n",
        "else:\n",
        "  print(\"it is a Scalent triangle as no sides are equal\")\n"
      ],
      "metadata": {
        "colab": {
          "base_uri": "https://localhost:8080/"
        },
        "id": "uZh0hV-ukS-k",
        "outputId": "feb09bea-19f3-4a88-ba59-8eee4695918d"
      },
      "execution_count": null,
      "outputs": [
        {
          "output_type": "stream",
          "name": "stdout",
          "text": [
            "\n",
            "Enter 1st side dimension in centimeter : 20\n",
            "Enter 1st side dimension in centimeter : 20\n",
            "Enter 1st side dimension in centimeter : 30\n",
            "Given dimension : \n",
            "1st-20.0 \n",
            "2nd-20.0 \n",
            "3rd-30.0\n",
            "It is an Isoceles Triangle as only two equal\n"
          ]
        }
      ]
    },
    {
      "cell_type": "code",
      "source": [
        "# students above 75% attendance should be allowed for exam\n",
        "# students with permission are allowed though less than 75%\n",
        "\n",
        "t= int(input(\"No. of Working days : \"))\n",
        "p= int(input(\"No. of days Present : \"))\n",
        "\n",
        "a= ( (p/t) * 100 )\n",
        "print(\"\\nAttendance Percentage : \",a,\"%\")\n",
        "\n",
        "\n",
        "if (a >= 75 ):\n",
        "  print(\"\\nStudent is Allowed for the Exam\")\n",
        "\n",
        "elif(a < 75):\n",
        "  print(\"\\nAttendance is low\")\n",
        "  print(\"check if Student has Permission to attend\\n\")\n",
        "\n",
        "  n = str(input(\"Permisson Y/N : \"))\n",
        "  if(n in ('Y','N','y','n')):\n",
        "    if(n in ('Y','y')):\n",
        "      print(\"\\nStudent is Allowed for the Exam 'With Permission'\")\n",
        "\n",
        "    else: print(\"\\nStudent is Not Allowed for the Exam\")\n",
        "  else: print(\"please check your input ; only 'Y for yes' and 'N for no'\")"
      ],
      "metadata": {
        "colab": {
          "base_uri": "https://localhost:8080/"
        },
        "id": "LT66uSJ6kUYV",
        "outputId": "17d373c3-150f-46ec-882f-f7da4ea8fb49"
      },
      "execution_count": null,
      "outputs": [
        {
          "output_type": "stream",
          "name": "stdout",
          "text": [
            "No. of Working days : 100\n",
            "No. of days Present : 72\n",
            "\n",
            "Attendance Percentage :  72.0 %\n",
            "\n",
            "Attendance is low\n",
            "check if Student has Permission to attend\n",
            "\n",
            "Permisson Y/N : y\n",
            "\n",
            "Student is Allowed for the Exam 'With Permission'\n"
          ]
        }
      ]
    },
    {
      "cell_type": "code",
      "source": [
        "#Roots and Nature of root for the quadratic equations\n",
        "a = int(input('Please enter operand 1 : '))\n",
        "b = int(input('Please enter operand 2 : '))\n",
        "c = int(input('Please enter operand 3 : '))\n",
        "\n",
        "x= ((b * b) - (4 * a * c))\n",
        "\n",
        "r1= (-b+ (x**(1/2)))/(2*a) \n",
        "r2= (-b- (x**(1/2)))/(2*a)\n",
        "\n",
        "print(\"Roots are : \",r1,r2)\n",
        "\n",
        "print(\"nature of roots :\")\n",
        "\n",
        "d=((b**2)-4*a*c)\n",
        "\n",
        "if(d==0):\n",
        "  print(\"root are equal \")\n",
        "elif(d>0):\n",
        "  print(\"roots are real\")\n",
        "else:\n",
        "  print(\"roots are imaginary\")\n",
        "\n"
      ],
      "metadata": {
        "id": "9RuU8K2eGnrK"
      },
      "execution_count": null,
      "outputs": []
    },
    {
      "cell_type": "code",
      "source": [
        "\n",
        "import math\n",
        "a = float(input('Please enter operand 1 : '))\n",
        "b = float(input('Please enter operand 2 : '))\n",
        "print(\"select the operation:\")\n",
        "print(\"\\n1-subtraction \\n2-Addition \\n3-multiplicaiton \\n4-division \\n5-modulo division \\n6-square root \\n7-exponent \\n8-floor division \\n9-ceil\")\n",
        "o = int(input(\"enter operation : \"))\n",
        "\n",
        "if (o==1):\n",
        "  print(f\"subtraction of 1st{a} operand and 2nd{b} Operand:{a-b}\")\n",
        "elif (o==2):\n",
        " print(f\"Addition of 1st{a} operand and 2nd{b} Operand:{a+b}\")\n",
        "elif (o==3):\n",
        " print(f\"Multiplication of 1st{a} operand and 2nd{b} Operand:{a*b}\")\n",
        "elif (o==4):\n",
        " print(f\"Division of 1st{a} operand and 2nd{b} Operand:{a/b}\")\n",
        "elif (o==5):\n",
        " print(f\"modulo division of 1st{a} operand and 2nd{b} Operand:{a%b}\")\n",
        "elif (o==6):\n",
        " print(f\"square root of 1st{a} operand and 2nd{b} Operand:{a**(1/2),b**(1/2)}\")\n",
        "elif (o==7):\n",
        " print(f\"exponent of 1st{a} operand and 2nd{b} Operand:{a**b}\")\n",
        "elif (o==8):\n",
        " print(f\"floor division of 1st{a} operand and 2nd{b} Operand:{a//b}\")\n",
        "elif(o==9):\n",
        "  x = math.ceil(a)\n",
        "  y= math.ceil(b)\n",
        "  print(f\"ceil of 1st op : {x} and ceil of 2nd op {y}\")\n",
        "\n",
        "else:\n",
        "  print(\"PLease enter from the above given options\")\n",
        "\n",
        "\n"
      ],
      "metadata": {
        "colab": {
          "base_uri": "https://localhost:8080/"
        },
        "id": "WKszxKFsLBn0",
        "outputId": "4b944575-922b-4675-9524-9cdee351b1f3"
      },
      "execution_count": null,
      "outputs": [
        {
          "output_type": "stream",
          "name": "stdout",
          "text": [
            "Please enter operand 1 : 90\n",
            "Please enter operand 2 : 90.1\n",
            "select the operation:\n",
            "\n",
            "1-subtraction \n",
            "2-Addition \n",
            "3-multiplicaiton \n",
            "4-division \n",
            "5-modulo division \n",
            "6-square root \n",
            "7-exponent \n",
            "8-floor division \n",
            "9-ceil\n",
            "enter operation : 9\n",
            "ceil of 1st op : 90 and ceil of 2nd op 91\n"
          ]
        }
      ]
    },
    {
      "cell_type": "code",
      "source": [
        "from logging import PlaceHolder\n",
        "# Voter eligibility criteria\n",
        "# 1. What is your name? (Wish with User Name)\n",
        "# 2. Where are you from? (indian/others, only Indians are allowed to vote)\n",
        "# 3. Have you ever experienced voting before? (Yes/No)\n",
        "# 4. Would you like to Vote? (Yes/No)\n",
        "# 5. Which Year-Month-Day were you born? (DAY/MONTH/YEAR ,Calculate age)\n",
        "# 6. Did you like our project? (Yes/No)\n",
        "# 7. Please give us rating out of 5? => less than 5 ratings give 'we will try better' else 'thanks'\n",
        "\n",
        "\n",
        "print(\"\\t Welcome to the Voting eligibility form\")\n",
        "i=str(input(\"Enter your Name :\"))\n",
        "print(\"Hi!\",i)\n",
        "n=str(input(\"where are you from (india/other) :\"))\n",
        "p=n.lower()\n",
        "\n",
        "if(p=='india'):\n",
        "\n",
        "  str(input(\"Have you ever experienced voting before? (Yes/No) :\"))\n",
        "  str(input(\"Would you like to Vote? (Yes/No) :\"))\n",
        "  print(\" Which Year-Month-Day were you born? (DAY/MONTH/YEAR)\") \n",
        "  d=int(input(\"day of the month :\"))\n",
        "  m=int(input(\"month of the year\"))\n",
        "  y=int(input(\"year : \"))\n",
        "  a=2023-y\n",
        "\n",
        "  print(f\"your age :{a}\")\n",
        "\n",
        "  if(a>18):\n",
        "\n",
        "    str(input(\"do you like our project? (Yes/No): \")) \n",
        "    r=int(input(\"\\nPlease give us rating out of 5 : \"))\n",
        "\n",
        "    if(r<5):\n",
        "\n",
        "     print(\"\\nWe will try better\")\n",
        "\n",
        "    else:\n",
        "     print(\"\\nthanks!!\") \n",
        "\n",
        "  else:\n",
        "    print(\"\\nYou are under age Try again when you are 18\")\n",
        "\n",
        "else:\n",
        "  print(\"\\nOnly indians are allowed\")\n",
        "\n",
        "\n",
        "\n"
      ],
      "metadata": {
        "colab": {
          "base_uri": "https://localhost:8080/"
        },
        "id": "FR36XyQ6PfRW",
        "outputId": "727e4be8-6867-437b-ad57-1c93e8cea713"
      },
      "execution_count": null,
      "outputs": [
        {
          "output_type": "stream",
          "name": "stdout",
          "text": [
            "\t Welcome to the Voting eligibility form\n",
            "Enter your Name :m\n",
            "Hi! m\n",
            "where are you from (india/other) :INDIA\n",
            "Have you ever experienced voting before? (Yes/No) :yes\n",
            "Would you like to Vote? (Yes/No) :yes\n",
            " Which Year-Month-Day were you born? (DAY/MONTH/YEAR)\n",
            "day of the month :12\n",
            "month of the year21\n",
            "year : 2001\n",
            "your age :22\n",
            "do you like our project? (Yes/No): no\n",
            "\n",
            "Please give us rating out of 5 : 5\n",
            "\n",
            "thanks!!\n"
          ]
        }
      ]
    },
    {
      "cell_type": "code",
      "source": [
        "\n",
        "# # Greatest among 3 given numbers\n",
        "# # not working\n",
        "\n",
        "# a = float(input('Please enter operand a : '))\n",
        "# b = float(input('Please enter operand b : '))\n",
        "# c = float(input('Please enter operand c : '))\n",
        "\n",
        "# if((a==b) and (b==c)):\n",
        "#     print(\"all are equal\")\n",
        "# elif((a>=b) and (a>=c)):\n",
        "#   if (a==b):\n",
        "#     print(\"a is greater than c and equals b\")\n",
        "#   if(a==c):\n",
        "#     print(\"a is grater than b and equals c\")\n",
        "\n",
        "# elif((b>=a) and (b>=c)):\n",
        "#   if (b==a):\n",
        "#     print(\"b is greater than c and equals a\")\n",
        "#   if(b==c):\n",
        "#     print(\"b is grater than b and equals c\")\n",
        "\n",
        "# elif((c>=a) and (c>=b)):\n",
        "#   if (c==b):\n",
        "#     print(\"c is greater than a and equals b\")\n",
        "#   if(c==a):\n",
        "#     print(\"c is grater than b and equals a\")\n",
        "\n"
      ],
      "metadata": {
        "id": "UdF8s4RjP13x"
      },
      "execution_count": null,
      "outputs": []
    },
    {
      "cell_type": "code",
      "source": [
        "# Greatest among 3 given numbers\n",
        "a = float(input('Please enter operand a : '))\n",
        "b = float(input('Please enter operand b : '))\n",
        "c = float(input('Please enter operand c : '))\n",
        "\n",
        "print(\"\\n\")\n",
        "\n",
        "if (a==b) and (b==c):\n",
        "  print(\"All are equal\")\n",
        "elif (a >= b) and (a >= c):\n",
        "  g = a\n",
        "  if(a==b):\n",
        "    print(\"a equals to b\")\n",
        "  elif(a==c):\n",
        "    print(\"a equals to c\")\n",
        "\n",
        "elif (b >= a) and (b >= c):\n",
        "  g = b\n",
        "  if(b==a):\n",
        "    print(\"b equals to a\")\n",
        "  elif(b==c):\n",
        "    print(\"b equals to c\")\n",
        "else:\n",
        "  g = c\n",
        "  if(c==a):\n",
        "    print(\"c equals to a\")\n",
        "  elif(c==b):\n",
        "    print(\"c equals to b\")\n",
        "  \n",
        "\n",
        "print(\"Greatest among the given numbers is : \", g)\n",
        "\n"
      ],
      "metadata": {
        "colab": {
          "base_uri": "https://localhost:8080/"
        },
        "id": "S9y-tEGHfYN5",
        "outputId": "df1a3aed-0b18-47a5-a755-3366fb1e655a"
      },
      "execution_count": null,
      "outputs": [
        {
          "output_type": "stream",
          "name": "stdout",
          "text": [
            "Please enter operand a : 12\n",
            "Please enter operand b : 12\n",
            "Please enter operand c : 2\n",
            "\n",
            "\n",
            "a equals to b\n",
            "Greatest among the given numbers is :  12.0\n"
          ]
        }
      ]
    }
  ]
}
